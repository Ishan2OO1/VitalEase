{
  "nbformat": 4,
  "nbformat_minor": 0,
  "metadata": {
    "colab": {
      "provenance": [],
      "mount_file_id": "1Ii0b2eNFVrsxL2l0-eRUPdnqmZrlRGjz",
      "authorship_tag": "ABX9TyN1KK5Lru4oyXZkXiy369Xe",
      "include_colab_link": true
    },
    "kernelspec": {
      "name": "python3",
      "display_name": "Python 3"
    },
    "language_info": {
      "name": "python"
    }
  },
  "cells": [
    {
      "cell_type": "markdown",
      "metadata": {
        "id": "view-in-github",
        "colab_type": "text"
      },
      "source": [
        "<a href=\"https://colab.research.google.com/github/Ishan2OO1/VitalEase/blob/main/MyGPT.ipynb\" target=\"_parent\"><img src=\"https://colab.research.google.com/assets/colab-badge.svg\" alt=\"Open In Colab\"/></a>"
      ]
    },
    {
      "cell_type": "code",
      "source": [
        "!pip install langchain\n",
        "!pip install python-magic\n",
        "!pip install datasets\n",
        "!pip install textract"
      ],
      "metadata": {
        "id": "5JOmC4s7_XGG"
      },
      "execution_count": null,
      "outputs": []
    },
    {
      "cell_type": "code",
      "execution_count": null,
      "metadata": {
        "id": "-2NDj6He_Jl8"
      },
      "outputs": [],
      "source": [
        "from langchain.embeddings.openai import OpenAIEmbeddings\n",
        "from langchain.vectorstores import Chroma\n",
        "from langchain.text_splitter import CharacterTextSplitter\n",
        "from langchain import OpenAI, VectorDBQA\n",
        "from langchain.document_loaders import DirectoryLoader\n",
        "import magic\n",
        "import os\n",
        "import nltk"
      ]
    },
    {
      "cell_type": "code",
      "source": [
        "import nltk\n",
        "nltk.download('averaged_perceptron_tagger')\n",
        "!pip install langchain\n",
        "!pip install openai\n",
        "!pip install chromadb\n",
        "!pip install unstructured\n",
        "!pip install beautifulsoup4\n",
        "!pip install python-magic-bin"
      ],
      "metadata": {
        "id": "-9hIk4Go_K3Q"
      },
      "execution_count": null,
      "outputs": []
    },
    {
      "cell_type": "code",
      "source": [
        "os.environ[\"OPENAI_API_KEY\"] = \"your OpenAI key\""
      ],
      "metadata": {
        "id": "CPJT3tGF_0hh"
      },
      "execution_count": null,
      "outputs": []
    },
    {
      "cell_type": "code",
      "source": [
        "# from datasets import DirectoryLoader\n",
        "import textract\n",
        "doc = textract.process(\"/content/drive/MyDrive/New folder (2)/all india hospital list.pdf\")\n",
        "\n",
        "# Step 2: Save to .txt and reopen (helps prevent issues)\n",
        "with open('all india hospital list.txt', 'w') as f:\n",
        "    f.write(doc.decode('utf-8'))"
      ],
      "metadata": {
        "id": "Z3Dgv5DjAWGl"
      },
      "execution_count": null,
      "outputs": []
    },
    {
      "cell_type": "code",
      "source": [
        "loader = DirectoryLoader('/content', glob='*.txt')\n",
        "docs = loader.load()"
      ],
      "metadata": {
        "id": "vYhpfzqJE7hU"
      },
      "execution_count": null,
      "outputs": []
    },
    {
      "cell_type": "code",
      "source": [
        "char_text_splitter = CharacterTextSplitter(chunk_size=150, chunk_overlap=0)\n",
        "doc_texts = char_text_splitter.split_documents(docs)"
      ],
      "metadata": {
        "id": "IEVDx1fXAitI"
      },
      "execution_count": null,
      "outputs": []
    },
    {
      "cell_type": "code",
      "source": [
        "!pip install tiktoken"
      ],
      "metadata": {
        "id": "tngTzZB0DDYz"
      },
      "execution_count": null,
      "outputs": []
    },
    {
      "cell_type": "code",
      "source": [
        "from transformers import OpenAIEmbeddings\n",
        "import os\n",
        "\n",
        "# Assuming you have already imported the necessary modules\n",
        "\n"
      ],
      "metadata": {
        "id": "bIOVgyqNJwbJ"
      },
      "execution_count": null,
      "outputs": []
    },
    {
      "cell_type": "code",
      "source": [
        "openAI_embeddings = OpenAIEmbeddings(model='text-embedding-ada-002', openai_api_key=os.environ['OPENAI_API_KEY'])\n",
        "vStore = Chroma.from_documents(doc_texts, openAI_embeddings)"
      ],
      "metadata": {
        "id": "TKngLV2nH0Si"
      },
      "execution_count": null,
      "outputs": []
    },
    {
      "cell_type": "code",
      "source": [
        "model = VectorDBQA.from_chain_type(llm=OpenAI(), chain_type='stuff', vectorstore=vStore)"
      ],
      "metadata": {
        "colab": {
          "base_uri": "https://localhost:8080/"
        },
        "id": "CWWK5d9uJlcq",
        "outputId": "742a413e-2937-44cb-f6a4-71f55171a2ba"
      },
      "execution_count": null,
      "outputs": [
        {
          "output_type": "stream",
          "name": "stderr",
          "text": [
            "/usr/local/lib/python3.10/dist-packages/langchain/chains/retrieval_qa/base.py:256: UserWarning: `VectorDBQA` is deprecated - please use `from langchain.chains import RetrievalQA`\n",
            "  warnings.warn(\n"
          ]
        }
      ]
    },
    {
      "cell_type": "code",
      "source": [
        "question = 'what are some hospitals in delhi'\n",
        "model.run(question)"
      ],
      "metadata": {
        "colab": {
          "base_uri": "https://localhost:8080/",
          "height": 53
        },
        "id": "iQfvmfwQH2es",
        "outputId": "e787122b-01f7-48dd-ccec-f3d121c3ec9b"
      },
      "execution_count": null,
      "outputs": [
        {
          "output_type": "execute_result",
          "data": {
            "text/plain": [
              "' Manu Hospital And Research Centre, Metro Hospital And Heart Institute, and Delhi Heart Hospital.'"
            ],
            "application/vnd.google.colaboratory.intrinsic+json": {
              "type": "string"
            }
          },
          "metadata": {},
          "execution_count": 79
        }
      ]
    },
    {
      "cell_type": "code",
      "source": [
        "question = 'suggest some more hospitals in delhi'\n",
        "model.run(question)"
      ],
      "metadata": {
        "colab": {
          "base_uri": "https://localhost:8080/",
          "height": 53
        },
        "id": "dV_Q0Y1LIorw",
        "outputId": "a7caccb7-2de1-4564-a3f5-feb328946ce3"
      },
      "execution_count": null,
      "outputs": [
        {
          "output_type": "execute_result",
          "data": {
            "text/plain": [
              "' Some other hospitals in Delhi include Apollo Hospital, Fortis Hospital, AIIMS, Max Super Speciality Hospital, Indraprastha Apollo Hospital, and Sir Ganga Ram Hospital.'"
            ],
            "application/vnd.google.colaboratory.intrinsic+json": {
              "type": "string"
            }
          },
          "metadata": {},
          "execution_count": 81
        }
      ]
    },
    {
      "cell_type": "code",
      "source": [],
      "metadata": {
        "id": "SO0SV9sjIvfj"
      },
      "execution_count": null,
      "outputs": []
    },
    {
      "cell_type": "code",
      "source": [],
      "metadata": {
        "id": "EDBxB2p8Ir2p"
      },
      "execution_count": null,
      "outputs": []
    },
    {
      "cell_type": "code",
      "source": [],
      "metadata": {
        "id": "Ts1jGu48AsL_"
      },
      "execution_count": null,
      "outputs": []
    },
    {
      "cell_type": "code",
      "source": [],
      "metadata": {
        "id": "W2Q34dVZHbaQ"
      },
      "execution_count": null,
      "outputs": []
    }
  ]
}